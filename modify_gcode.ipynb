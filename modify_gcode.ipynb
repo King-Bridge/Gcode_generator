{
 "cells": [
  {
   "cell_type": "code",
   "execution_count": 1,
   "metadata": {},
   "outputs": [],
   "source": [
    "import re"
   ]
  },
  {
   "cell_type": "code",
   "execution_count": 2,
   "metadata": {},
   "outputs": [],
   "source": [
    "def align(input_file, output_file, delta_x, delta_y):\n",
    "    \"\"\"\n",
    "    读取.gcode文件，将所有X后面的数字减1，然后保存到新文件。\n",
    "\n",
    "    Args:\n",
    "        input_file (str): 输入.gcode文件的路径。\n",
    "        output_file (str): 输出.gcode文件的路径。\n",
    "    \"\"\"\n",
    "\n",
    "    with open(input_file, 'r') as f_in, open(output_file, 'w') as f_out:\n",
    "        for line in f_in:\n",
    "            # 使用更精确的正则表达式查找并修改X坐标\n",
    "            line = re.sub(r'([XY])(\\s*-?\\d*\\.?\\d+)', lambda m: f'{m.group(1)}{float(m.group(2)) - delta_x:.3f}' if m.group(1) == 'X' else f'{m.group(1)}{float(m.group(2)) - delta_y:.3f}', line)\n",
    "            f_out.write(line)"
   ]
  },
  {
   "cell_type": "code",
   "execution_count": 3,
   "metadata": {},
   "outputs": [],
   "source": [
    "def add_M7_M9(input_file, output_file):\n",
    "    \"\"\"\n",
    "    读取.gcode文件，在所有以G0开头的行前面加一行“M7”，后面加一行“M9”，然后保存到新文件。\n",
    "\n",
    "    Args:\n",
    "        input_file (str): 输入.gcode文件的路径。\n",
    "        output_file (str): 输出.gcode文件的路径。\n",
    "    \"\"\"\n",
    "\n",
    "    with open(input_file, 'r') as f_in, open(output_file, 'w') as f_out:\n",
    "        for line in f_in:\n",
    "            # 在以G0开头的行前面加一行“M7”，后面加一行“M9”\n",
    "            if line.startswith(\"G0\"):\n",
    "                f_out.write(\"M9\\n\")\n",
    "                f_out.write(line)\n",
    "                f_out.write(\"M7\\n\")\n",
    "            else:\n",
    "                f_out.write(line)"
   ]
  },
  {
   "cell_type": "code",
   "execution_count": 4,
   "metadata": {},
   "outputs": [],
   "source": [
    "def modify_head(input_file, output_file):\n",
    "    \"\"\"\n",
    "    读取.gcode文件，修改头部信息，然后保存到新文件。\n",
    "\n",
    "    Args:\n",
    "        input_file (str): 输入.gcode文件的路径。\n",
    "        output_file (str): 输出.gcode文件的路径。\n",
    "    \"\"\"\n",
    "\n",
    "    with open(input_file, 'r') as f_in, open(output_file, 'w') as f_out:\n",
    "        # 读取头部信息\n",
    "        header_lines = []\n",
    "        \n",
    "        print(f_in)\n",
    "        \n",
    "        count = 0\n",
    "        for line in f_in:\n",
    "            if count < 28:\n",
    "                header_lines.append(line)\n",
    "                count += 1\n",
    "                if count == 28:\n",
    "                    break\n",
    "\n",
    "        # 修改头部信息\n",
    "        header_lines = [\n",
    "            f\"{header_lines[0]}\",  # FLAVOR\n",
    "            f\"{header_lines[1]}\",  # TIME\n",
    "            f\"{header_lines[2]}\",  # Filament used\n",
    "            f\"{header_lines[3]}\",  # Layer height\n",
    "            f\"{header_lines[24]}\", # LAYER_COUNT\n",
    "            f\"{header_lines[25]}\", # LAYER:0\n",
    "            f\"{header_lines[27]}\", # MESH:filename\n",
    "            \"\\nG21 ;start of the code\",\n",
    "            \"\\nG1 Z15 F300\",\n",
    "            \"\\nG28 X0 Y0 ;Home\",\n",
    "            \"\\nG92 X0 Y0 ;Consider this as current\",\n",
    "            \"\\nG0 X50 Y50 F3000 ;Go-to Offset\",  \n",
    "            \"\\nG92 X0 Y0 ;Reset\",\n",
    "            \"\\n\\n\"\n",
    "        ]\n",
    "\n",
    "        # 写入新的头部信息\n",
    "        f_out.writelines(header_lines)\n",
    "\n",
    "        # 处理剩余的 G 代码行\n",
    "        for line in f_in:\n",
    "            f_out.write(line)"
   ]
  },
  {
   "cell_type": "code",
   "execution_count": 7,
   "metadata": {},
   "outputs": [
    {
     "ename": "",
     "evalue": "",
     "output_type": "error",
     "traceback": [
      "\u001b[1;31mThe Kernel crashed while executing code in the the current cell or a previous cell. Please review the code in the cell(s) to identify a possible cause of the failure. Click <a href='https://aka.ms/vscodeJupyterKernelCrash'>here</a> for more info. View Jupyter <a href='command:jupyter.viewOutput'>log</a> for further details."
     ]
    }
   ],
   "source": [
    "# 设置输入和输出文件路径\n",
    "input_file = \"7.22//side_20_20.gcode\"\n",
    "output_file = \"tmp3.gcode\"\n",
    "\n",
    "# 调用函数修改G代码文件\n",
    "align(input_file, output_file, -25, -25)"
   ]
  },
  {
   "cell_type": "code",
   "execution_count": 10,
   "metadata": {},
   "outputs": [
    {
     "name": "stdout",
     "output_type": "stream",
     "text": [
      "<_io.TextIOWrapper name='tmp.gcode' mode='r' encoding='UTF-8'>\n"
     ]
    }
   ],
   "source": [
    "# 设置输入和输出文件路径\n",
    "input_file = \"tmp\\platform1315_zigzag_0.4_40.gcode\"\n",
    "tmp_file = \"tmp.gcode\"\n",
    "output_file = \"7.15\\platform1315_zigzag_0.4_40.gcode\"\n",
    "\n",
    "# 调用函数修改G代码文件\n",
    "align(input_file, tmp_file, 124.662, 115.054)\n",
    "modify_head(tmp_file, output_file)"
   ]
  },
  {
   "cell_type": "code",
   "execution_count": null,
   "metadata": {},
   "outputs": [],
   "source": []
  }
 ],
 "metadata": {
  "kernelspec": {
   "display_name": "didl",
   "language": "python",
   "name": "python3"
  },
  "language_info": {
   "codemirror_mode": {
    "name": "ipython",
    "version": 3
   },
   "file_extension": ".py",
   "mimetype": "text/x-python",
   "name": "python",
   "nbconvert_exporter": "python",
   "pygments_lexer": "ipython3",
   "version": "3.7.12"
  }
 },
 "nbformat": 4,
 "nbformat_minor": 2
}
