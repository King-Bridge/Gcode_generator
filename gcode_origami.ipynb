{
 "cells": [
  {
   "cell_type": "code",
   "execution_count": 1,
   "metadata": {},
   "outputs": [],
   "source": [
    "import numpy as np"
   ]
  },
  {
   "cell_type": "code",
   "execution_count": 2,
   "metadata": {},
   "outputs": [],
   "source": [
    "def write_header_lines(file, layer_height, line_width, layer_count, mesh, start_x, start_y, start_z=0.3):\n",
    "    with open(file, 'w') as f:\n",
    "        header_lines = [\n",
    "            f\";layer_height = {layer_height}\",\n",
    "            f\"\\n;line_width = {line_width}\",\n",
    "            f\"\\n;layer_count = {layer_count}\",\n",
    "            f\"\\n;mesh = {mesh}\"\n",
    "        ]\n",
    "        \n",
    "        initialize_lines = [\n",
    "            \"\\nG21 ;start of the code\",\n",
    "            \"\\nG1 Z15 F300\",\n",
    "            \"\\nG28 X0 Y0 ;Home\",\n",
    "            \"\\nG92 X0 Y0 ;Consider this as current\",\n",
    "            \"\\nG0 X50 Y50 F3000 ;Go-to Offset\",  \n",
    "            \"\\nG92 X0 Y0 ;Reset\",\n",
    "            \"\\n\",\n",
    "            f\"\\nG0 F3600 X{start_x:.3f} Y{start_y:.3f} Z{start_z:.3f} ;Go to start position\",\n",
    "            \"\\nM7\",\n",
    "            \"\\n\\n\"\n",
    "        ]\n",
    "        \n",
    "        f.writelines(header_lines)\n",
    "        f.writelines(initialize_lines)\n",
    "        \n",
    "        \n",
    "def writ_finish_lines(file):\n",
    "    with open(file, 'a') as f:\n",
    "        finish_lines = [\n",
    "            \"\\n\\n;Finish\",\n",
    "            \"\\nM9\",\n",
    "            \"\\nG28 X-100 Y-100;Home\",\n",
    "        ]\n",
    "        f.writelines(finish_lines)"
   ]
  },
  {
   "cell_type": "code",
   "execution_count": 3,
   "metadata": {},
   "outputs": [],
   "source": [
    "def write_G1_line(delta_x, delta_y, xy, lines):\n",
    "    xy += [delta_x, delta_y]\n",
    "    lines.append(f\"\\nG1 X{xy[0]:.3f} Y{xy[1]:.3f}\")\n",
    "    # print(xy)\n",
    "    return xy, lines\n",
    "\n",
    "def go_to_next_layer(z, xy, lines, layer_height):\n",
    "    z += layer_height\n",
    "    lines.append(f\"\\nG1 Z{z:.3f}\")\n",
    "    return z, lines"
   ]
  },
  {
   "cell_type": "code",
   "execution_count": 4,
   "metadata": {},
   "outputs": [],
   "source": [
    "def soft_film(file, a, b, w, h, z=0.3):\n",
    "    xy = np.array([-(a-w)/2, -(b-w)/2])\n",
    "    lines = []\n",
    "    \n",
    "    write_G1_line(-np.sign(xy[0])*(a-w), 0, xy, lines)\n",
    "    while xy[1] < (b-w)/2:\n",
    "        xy, lines = write_G1_line(0, w, xy, lines)\n",
    "        xy, lines = write_G1_line(-np.sign(xy[0])*(a-w), 0, xy, lines)\n",
    "        \n",
    "    z, lines = go_to_next_layer(z, xy, lines, h)\n",
    "        \n",
    "    write_G1_line(0, -np.sign(xy[1])*(b-w), xy, lines)\n",
    "    if np.sign(xy[0]) > 0:\n",
    "        while xy[0] > -(a-w)/2+0.0001:\n",
    "            xy, lines = write_G1_line(-w, 0, xy, lines)\n",
    "            xy, lines = write_G1_line(0, -np.sign(xy[1])*(b-w), xy, lines)\n",
    "        \n",
    "    else:\n",
    "        while xy[0] < (a-w)/2-0.0001:\n",
    "            xy, lines = write_G1_line(w, 0, xy, lines)\n",
    "            xy, lines = write_G1_line(0, -np.sign(xy[1])*(b-w), xy, lines)\n",
    "\n",
    "    with open(file, 'a') as f:\n",
    "        f.writelines(lines)"
   ]
  },
  {
   "cell_type": "code",
   "execution_count": 158,
   "metadata": {},
   "outputs": [
    {
     "data": {
      "text/plain": [
       "3.4400000000000004"
      ]
     },
     "execution_count": 158,
     "metadata": {},
     "output_type": "execute_result"
    }
   ],
   "source": [
    "i = 8\n",
    "(0.2*(1+i))**2 + 0.2"
   ]
  },
  {
   "cell_type": "code",
   "execution_count": 6,
   "metadata": {},
   "outputs": [],
   "source": [
    "def base_structure(file, a, b, w, h, z=0.3):\n",
    "    soft_film(file, a, b, w, h, z)\n",
    "    \n",
    "    z = 0.7    \n",
    "    xy = np.array([(a-w)/2, (b-w)/2])\n",
    "    lines = []\n",
    "    \n",
    "    # draw right side first\n",
    "    for i in range (10):\n",
    "        z, lines = go_to_next_layer(z, xy, lines, h)\n",
    "        \n",
    "        if not (i % 2):\n",
    "            boundary = ((i+1)*0.4-0.2)**0.5\n",
    "            xx = xy[0] - boundary\n",
    "            print(xx)\n",
    "            xy, lines = write_G1_line(-xx, 0, xy, lines)\n",
    "            \n",
    "            if xy[1] > 0:\n",
    "                while xy[1] > - (b-w)/2 + 0.0001:\n",
    "                    xy, lines = write_G1_line(0, -w, xy, lines)\n",
    "                    xy, lines = write_G1_line(-np.sign(xy[0]-xx/2)*xx, 0, xy, lines)\n",
    "            \n",
    "            else:\n",
    "                while xy[1] < (b-w)/2 - 0.0001:\n",
    "                    xy, lines = write_G1_line(0, w, xy, lines)\n",
    "                    xy, lines = write_G1_line(-np.sign(xy[0]-xx/2)*xx, 0, xy, lines)\n",
    "                    \n",
    "            if xy[0] > xx/2:\n",
    "                xy, lines = write_G1_line(-xx, 0, xy, lines)\n",
    "                    \n",
    "        else:\n",
    "            xy, lines = write_G1_line(0, -np.sign(xy[1])*(b-w), xy, lines)\n",
    "            while xy[0] < (a-w)/2 - 0.0001:\n",
    "                xy, lines = write_G1_line(w, 0, xy, lines)\n",
    "                xy, lines = write_G1_line(0, -np.sign(xy[1])*(b-w), xy, lines)\n",
    "                \n",
    "    # then the left side\n",
    "    lines.append(\"\\nM9\")\n",
    "    lines.append(f\"\\nG1 Z{z+5:.3f}\")\n",
    "    xy = np.array([-(a-w)/2, (b-w)/2])\n",
    "    lines.append(f\"\\nG1 X{xy[0]:.3f} Y{xy[1]:.3f}\")\n",
    "    z = 0.7\n",
    "    lines.append(f\"\\nG1 Z{z:.3f}\")\n",
    "    lines.append(\"\\nM7\")\n",
    "    \n",
    "    for i in range (10):\n",
    "        z, lines = go_to_next_layer(z, xy, lines, h)\n",
    "        \n",
    "        if not (i % 2):\n",
    "            boundary = ((i+1)*0.4-0.2)**0.5\n",
    "            xx = -xy[0] - boundary\n",
    "            print(boundary, xx)\n",
    "            xy, lines = write_G1_line(xx, 0, xy, lines)\n",
    "            \n",
    "            if xy[1] > 0:\n",
    "                while xy[1] > - (b-w)/2 + 0.0001:\n",
    "                    xy, lines = write_G1_line(0, -w, xy, lines)\n",
    "                    xy, lines = write_G1_line(np.sign(-xy[0]-xx/2)*xx, 0, xy, lines)\n",
    "            \n",
    "            else:\n",
    "                while xy[1] < (b-w)/2 - 0.0001:\n",
    "                    xy, lines = write_G1_line(0, w, xy, lines)\n",
    "                    xy, lines = write_G1_line(np.sign(-xy[0]-xx/2)*xx, 0, xy, lines)\n",
    "                    \n",
    "            if xy[0] < -xx/2:\n",
    "                xy, lines = write_G1_line(xx, 0, xy, lines)\n",
    "                    \n",
    "        else:\n",
    "            xy, lines = write_G1_line(0, -np.sign(xy[1])*(b-w), xy, lines)\n",
    "            while xy[0] > -(a-w)/2 + 0.0001:\n",
    "                xy, lines = write_G1_line(-w, 0, xy, lines)\n",
    "                xy, lines = write_G1_line(0, -np.sign(xy[1])*(b-w), xy, lines)\n",
    "    \n",
    "    \n",
    "    \n",
    "\n",
    "    with open(file, 'a') as f:\n",
    "        f.writelines(lines)"
   ]
  },
  {
   "cell_type": "code",
   "execution_count": 194,
   "metadata": {},
   "outputs": [
    {
     "name": "stdout",
     "output_type": "stream",
     "text": [
      "19.352786404500044\n",
      "19.04721359549995\n",
      "18.458359213500124\n",
      "18.529189236840157\n",
      "18.168542658201126\n",
      "0.4472135954999579 19.352786404500044\n",
      "1.0 19.04721359549995\n",
      "1.3416407864998738 18.458359213500124\n",
      "1.61245154965971 18.529189236840157\n",
      "1.8439088914585775 18.168542658201126\n"
     ]
    }
   ],
   "source": [
    "layer_height = 0.4\n",
    "line_width = 0.4\n",
    "layer_count = 2\n",
    "mesh = 'base structure'\n",
    "length_a = 40\n",
    "length_b = 20\n",
    "wall_layer_count = 0\n",
    "file = '7.19/base.gcode'\n",
    "write_header_lines(file, layer_height, 0.4, layer_count, mesh, -length_a/2, -length_b/2)\n",
    "\n",
    "base_structure(file, length_a, length_b,line_width, layer_height, z=0.3)\n",
    "        \n",
    "writ_finish_lines(file)"
   ]
  },
  {
   "cell_type": "code",
   "execution_count": 5,
   "metadata": {},
   "outputs": [],
   "source": [
    "layer_height = 0.4\n",
    "line_width = 0.4\n",
    "layer_count = 2\n",
    "mesh = 'soft film'\n",
    "length_a = 20\n",
    "length_b = 30\n",
    "wall_layer_count = 0\n",
    "file = '7.29/film_20_30.gcode'\n",
    "write_header_lines(file, layer_height, 0.4, layer_count, mesh, -length_a/2, -length_b/2)\n",
    "\n",
    "soft_film(file, length_a, length_b, line_width, layer_height)\n",
    "# soft_film(file, length_a, length_b, line_width, layer_height, z=1.1)\n",
    "        \n",
    "writ_finish_lines(file)"
   ]
  },
  {
   "cell_type": "code",
   "execution_count": 6,
   "metadata": {},
   "outputs": [],
   "source": [
    "layer_height = 0.4\n",
    "line_width = 0.4\n",
    "layer_count = 2\n",
    "mesh = 'soft film'\n",
    "length_a = 30\n",
    "length_b = 6\n",
    "wall_layer_count = 0\n",
    "file = '7.31/film_30_6.gcode'\n",
    "write_header_lines(file, layer_height, 0.4, layer_count, mesh, -length_a/2, -length_b/2)\n",
    "\n",
    "soft_film(file, length_a, length_b, line_width, layer_height)\n",
    "# soft_film(file, length_a, length_b, line_width, layer_height, z=1.1)\n",
    "        \n",
    "writ_finish_lines(file)"
   ]
  },
  {
   "cell_type": "code",
   "execution_count": null,
   "metadata": {},
   "outputs": [],
   "source": []
  }
 ],
 "metadata": {
  "kernelspec": {
   "display_name": "didl",
   "language": "python",
   "name": "python3"
  },
  "language_info": {
   "codemirror_mode": {
    "name": "ipython",
    "version": 3
   },
   "file_extension": ".py",
   "mimetype": "text/x-python",
   "name": "python",
   "nbconvert_exporter": "python",
   "pygments_lexer": "ipython3",
   "version": "3.7.12"
  }
 },
 "nbformat": 4,
 "nbformat_minor": 2
}
