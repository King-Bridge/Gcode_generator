{
 "cells": [
  {
   "cell_type": "code",
   "execution_count": 1,
   "metadata": {},
   "outputs": [],
   "source": [
    "import numpy as np\n",
    "from gcode_platform_general import *"
   ]
  },
  {
   "cell_type": "code",
   "execution_count": 3,
   "metadata": {},
   "outputs": [],
   "source": [
    "mesh = 'base_film'\n",
    "layer_height = 0.4\n",
    "line_width = 0.4\n",
    "layer_count = 2\n",
    "\n",
    "x1 = 0.25\n",
    "x2 = 15\n",
    "\n",
    "y1 = 1\n",
    "y2 = 10\n",
    "\n",
    "file = '7.31/'+mesh+'_'+str(x2)+'_'+str(y2)+'.gcode'\n",
    "write_header_lines(file, layer_height, line_width, layer_count, mesh, -x2, -y2)\n",
    "\n",
    "# base film (1 layers):\n",
    "xy1 = np.array([-x2, -y2])\n",
    "xy3 = np.array([x2, y2])\n",
    "draw_layer(file, xy1, xy3, 0.3, line_width, False)\n",
    "\n",
    "# left side:\n",
    "move_to(file, -x2, -y2, 0.7)\n",
    "draw_layer(file, np.array([-x2, -y2]), np.array([-x1, y2]), 0.7, line_width, False)\n",
    "draw_layer(file, np.array([-x2, -y2]), np.array([-x1, y2]), 1.1, line_width, True)\n",
    "\n",
    "# right side:\n",
    "move_to(file, x1, -y2, 0.7)\n",
    "draw_layer(file, np.array([x1, -y2]), np.array([x2, y2]), 0.7, line_width, False)\n",
    "draw_layer(file, np.array([x1, -y2]), np.array([x2, y2]), 1.1, line_width, True)\n",
    "\n",
    "writ_finish_lines(file)"
   ]
  },
  {
   "cell_type": "code",
   "execution_count": 4,
   "metadata": {},
   "outputs": [],
   "source": [
    "mesh = 'side_circle'\n",
    "layer_height = 0.4\n",
    "line_width = 0.4\n",
    "height = 4\n",
    "layer_count = int(height/layer_height)\n",
    "\n",
    "x1 = 0.25\n",
    "x2 = 15\n",
    "\n",
    "y1 = 1\n",
    "y2 = 10\n",
    "\n",
    "file = '7.31/'+mesh+'_'+str(x2)+'_'+str(y2)+'_'+str(layer_count)+'.gcode'\n",
    "write_header_lines(file, layer_height, line_width, layer_count, mesh, x1, -y2)\n",
    "\n",
    "h = height\n",
    "for i in range (layer_count):\n",
    "    xb = np.sqrt(h**2-(h-layer_height/2-i*layer_height)**2)\n",
    "    xy1 = np.array([x1, -y2])\n",
    "    xy3 = np.array([x2-xb, y2])\n",
    "    if i%2 == 0:\n",
    "        draw_layer(file, xy1, xy3, i*layer_height + 0.3, line_width, False)\n",
    "    else:\n",
    "        draw_layer(file, xy1, xy3, i*layer_height + 0.3, line_width, True)\n",
    "        \n",
    "writ_finish_lines(file)"
   ]
  },
  {
   "cell_type": "code",
   "execution_count": 5,
   "metadata": {},
   "outputs": [],
   "source": [
    "mesh = 'side_circle'\n",
    "layer_height = 0.4\n",
    "line_width = 0.4\n",
    "height = 3.2\n",
    "layer_count = int(height/layer_height)\n",
    "\n",
    "x1 = 0.25\n",
    "x2 = 15\n",
    "\n",
    "y1 = 1\n",
    "y2 = 10\n",
    "\n",
    "file = '7.31/'+mesh+'_'+str(x2)+'_'+str(y2)+'_'+str(layer_count)+'.gcode'\n",
    "write_header_lines(file, layer_height, line_width, layer_count, mesh, x1, -y2)\n",
    "\n",
    "h = height\n",
    "for i in range (layer_count):\n",
    "    xb = np.sqrt(h**2-(h-layer_height/2-i*layer_height)**2)\n",
    "    xy1 = np.array([x1, -y2])\n",
    "    xy3 = np.array([x2-xb, y2])\n",
    "    if i%2 == 0:\n",
    "        draw_layer(file, xy1, xy3, i*layer_height + 0.3, line_width, False)\n",
    "    else:\n",
    "        draw_layer(file, xy1, xy3, i*layer_height + 0.3, line_width, True)\n",
    "        \n",
    "writ_finish_lines(file)"
   ]
  },
  {
   "cell_type": "code",
   "execution_count": null,
   "metadata": {},
   "outputs": [],
   "source": []
  }
 ],
 "metadata": {
  "kernelspec": {
   "display_name": "didl",
   "language": "python",
   "name": "python3"
  },
  "language_info": {
   "codemirror_mode": {
    "name": "ipython",
    "version": 3
   },
   "file_extension": ".py",
   "mimetype": "text/x-python",
   "name": "python",
   "nbconvert_exporter": "python",
   "pygments_lexer": "ipython3",
   "version": "3.7.12"
  }
 },
 "nbformat": 4,
 "nbformat_minor": 2
}
