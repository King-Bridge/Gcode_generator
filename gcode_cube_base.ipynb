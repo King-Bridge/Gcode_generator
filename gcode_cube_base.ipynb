{
 "cells": [
  {
   "cell_type": "code",
   "execution_count": 2,
   "metadata": {},
   "outputs": [],
   "source": [
    "import numpy as np"
   ]
  },
  {
   "cell_type": "code",
   "execution_count": 3,
   "metadata": {},
   "outputs": [],
   "source": [
    "def write_header_lines(file, layer_height, line_width, layer_count, mesh, start_x, start_y, start_z=0.3):\n",
    "    with open(file, 'w') as f:\n",
    "        header_lines = [\n",
    "            f\";layer_height = {layer_height}\",\n",
    "            f\"\\n;line_width = {line_width}\",\n",
    "            f\"\\n;layer_count = {layer_count}\",\n",
    "            f\"\\n;mesh = {mesh}\"\n",
    "        ]\n",
    "        \n",
    "        initialize_lines = [\n",
    "            \"\\nG21 ;start of the code\",\n",
    "            \"\\nG1 Z15 F300\",\n",
    "            \"\\nG28 X0 Y0 ;Home\",\n",
    "            \"\\nG92 X0 Y0 ;Consider this as current\",\n",
    "            \"\\nG0 X50 Y50 F3000 ;Go-to Offset\",  \n",
    "            \"\\nG92 X0 Y0 ;Reset\",\n",
    "            \"\\n\",\n",
    "            f\"\\nG0 F3600 X{start_x:.3f} Y{start_y:.3f} Z{start_z:.3f} ;Go to start position\",\n",
    "            \"\\nM7\",\n",
    "            \"\\n\\n\"\n",
    "        ]\n",
    "        \n",
    "        f.writelines(header_lines)\n",
    "        f.writelines(initialize_lines)\n",
    "        \n",
    "        \n",
    "def writ_finish_lines(file):\n",
    "    with open(file, 'a') as f:\n",
    "        finish_lines = [\n",
    "            \"\\n\\n;Finish\",\n",
    "            \"\\nM9\",\n",
    "            \"\\nG1 Z10.000\"\n",
    "            \"\\nG28 X-100 Y-100;Home\",\n",
    "        ]\n",
    "        f.writelines(finish_lines)"
   ]
  },
  {
   "cell_type": "code",
   "execution_count": 4,
   "metadata": {},
   "outputs": [],
   "source": [
    "def write_G1_line(delta_x, delta_y, xy, lines, pause=True):\n",
    "    xy += [delta_x, delta_y]\n",
    "    lines.append(f\"\\nG1 X{xy[0]:.3f} Y{xy[1]:.3f}\")\n",
    "    if pause:\n",
    "        lines.append(f\"\\nG4 P30\")\n",
    "    # print(xy)\n",
    "    return xy, lines\n",
    "\n",
    "def write_init_layer(xy, z, lines):\n",
    "    lines.append(f\"\\nG1 X{xy[0]:.3f} Y{xy[1]:.3f} Z{z:.3f}\")\n",
    "    return lines    "
   ]
  },
  {
   "cell_type": "code",
   "execution_count": 12,
   "metadata": {},
   "outputs": [
    {
     "ename": "",
     "evalue": "",
     "output_type": "error",
     "traceback": [
      "\u001b[1;31mThe Kernel crashed while executing code in the the current cell or a previous cell. Please review the code in the cell(s) to identify a possible cause of the failure. Click <a href='https://aka.ms/vscodeJupyterKernelCrash'>here</a> for more info. View Jupyter <a href='command:jupyter.viewOutput'>log</a> for further details."
     ]
    }
   ],
   "source": [
    "mesh = 'bottom_cross'\n",
    "layer_height = 0.4\n",
    "line_width = 0.4\n",
    "layer_count = 2\n",
    "wall_layer_count = 0\n",
    "file = '7.25/'+mesh+'.gcode'\n",
    "write_header_lines(file, layer_height, 0.4, layer_count, mesh, -48.5, -12.5)\n",
    "\n",
    "lines = []\n",
    "w = line_width\n",
    "xy = np.array([-48.5+w/2, -12.5+w/2])\n",
    "write_init_layer(xy, 0.3, lines)\n",
    "\n",
    "while(xy[0] < -12.5):\n",
    "    xy, lines = write_G1_line(0, -np.sign(xy[1])*(25-w), xy, lines)\n",
    "    xy, lines = write_G1_line(w, 0, xy, lines)\n",
    "\n",
    "xy, lines = write_G1_line(0, -np.sign(xy[1])*(25-w+36), xy, lines)\n",
    "xy, lines = write_G1_line(w, 0, xy, lines)\n",
    "while(xy[0] < 12.5):\n",
    "    xy, lines = write_G1_line(0, -np.sign(xy[1])*(25-w+72), xy, lines)\n",
    "    xy, lines = write_G1_line(w, 0, xy, lines)\n",
    "\n",
    "xy, lines = write_G1_line(0, -np.sign(xy[1])*(25-w+36), xy, lines)\n",
    "xy, lines = write_G1_line(w, 0, xy, lines)\n",
    "while(xy[0] < 12.5+72):\n",
    "    xy, lines = write_G1_line(0, -np.sign(xy[1])*(25-w), xy, lines)\n",
    "    xy, lines = write_G1_line(w, 0, xy, lines)\n",
    "    \n",
    "with open(file, 'a') as f:\n",
    "    f.writelines(lines)\n",
    "\n",
    "\n",
    "\n"
   ]
  },
  {
   "cell_type": "code",
   "execution_count": null,
   "metadata": {},
   "outputs": [],
   "source": []
  }
 ],
 "metadata": {
  "kernelspec": {
   "display_name": "didl",
   "language": "python",
   "name": "python3"
  },
  "language_info": {
   "codemirror_mode": {
    "name": "ipython",
    "version": 3
   },
   "file_extension": ".py",
   "mimetype": "text/x-python",
   "name": "python",
   "nbconvert_exporter": "python",
   "pygments_lexer": "ipython3",
   "version": "3.7.12"
  }
 },
 "nbformat": 4,
 "nbformat_minor": 2
}
