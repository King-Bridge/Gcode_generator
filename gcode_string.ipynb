{
 "cells": [
  {
   "cell_type": "code",
   "execution_count": 1,
   "metadata": {},
   "outputs": [],
   "source": [
    "import numpy as np"
   ]
  },
  {
   "cell_type": "code",
   "execution_count": 2,
   "metadata": {},
   "outputs": [],
   "source": [
    "def write_header_lines(file, layer_height, line_width, layer_count, mesh, speed=1200):\n",
    "    with open(file, 'w') as f:\n",
    "        header_lines = [\n",
    "            f\";layer_height = {layer_height}\",\n",
    "            f\"\\n;line_width = {line_width}\",\n",
    "            f\"\\n;layer_count = {layer_count}\",\n",
    "            f\"\\n;mesh = {mesh}\"\n",
    "        ]\n",
    "        \n",
    "        initialize_lines = [\n",
    "            \"\\nG21 ;start of the code\",\n",
    "            \"\\nG1 Z15 F300\",\n",
    "            \"\\nG28 X0 Y0 ;Home\",\n",
    "            \"\\nG92 X0 Y0 ;Consider this as current\",\n",
    "            \"\\nG0 X50 Y50 F3000 ;Go-to Offset\",  \n",
    "            \"\\nG92 X0 Y0 ;Reset\",\n",
    "            \"\\n\",\n",
    "            \"\\nG0 F3600 X-5.8 Y-14.285 Z0.3\",\n",
    "            \"\\nM7\",\n",
    "            \"\\n\\n\"\n",
    "        ]\n",
    "        \n",
    "        f.writelines(header_lines)\n",
    "        f.writelines(initialize_lines)\n",
    "        \n",
    "        \n",
    "def writ_finish_lines(file):\n",
    "    with open(file, 'a') as f:\n",
    "        finish_lines = [\n",
    "            \"\\n\\n;Finish\",\n",
    "            \"\\nM9\",\n",
    "            \"\\nG92 E1\"\n",
    "            \"\\nG1 E-1 F300\"\n",
    "            \"\\nG28 ;Home\",\n",
    "        ]\n",
    "        f.writelines(finish_lines)"
   ]
  },
  {
   "cell_type": "code",
   "execution_count": 21,
   "metadata": {},
   "outputs": [],
   "source": [
    "def rotate_45_degree(xy):\n",
    "    x, y = xy\n",
    "    x_new = x * np.cos(np.pi/4) - y * np.sin(np.pi/4)\n",
    "    y_new = x * np.sin(np.pi/4) + y * np.cos(np.pi/4)\n",
    "    return np.array([x_new, y_new])\n",
    "\n",
    "def rotate_xy(xy, times):\n",
    "    for _ in range(times):\n",
    "        xy = rotate_45_degree(xy)\n",
    "    return xy\n",
    "\n",
    "def write_one_line_with_rotate(lines, xy, rotate_times):\n",
    "    xy = rotate_xy(xy, rotate_times)\n",
    "    x, y = xy\n",
    "    lines.append(f\"\\nG1 X{x} Y{y}\")\n",
    "    # return lines"
   ]
  },
  {
   "cell_type": "code",
   "execution_count": 42,
   "metadata": {},
   "outputs": [],
   "source": [
    "def draw_layer(file, x_barrier):\n",
    "    lines = []\n",
    "    \n",
    "    for i in range (8):\n",
    "        xy = np.array([-5.923, -14.301])\n",
    "        if (x_barrier < -5.5) or (x_barrier > 5.5):\n",
    "            xy += [10.546,0]\n",
    "            write_one_line_with_rotate(lines, xy, i)\n",
    "            xy += [0, 0.4]\n",
    "            write_one_line_with_rotate(lines, xy, i)\n",
    "            xy += [-9.646,0]\n",
    "            write_one_line_with_rotate(lines, xy, i)\n",
    "            xy += [0, 0.4]\n",
    "            write_one_line_with_rotate(lines, xy, i)\n",
    "            xy += [10.046,0]\n",
    "            write_one_line_with_rotate(lines, xy, i)\n",
    "            xy += [0, -0.8]\n",
    "            write_one_line_with_rotate(lines, xy, i)\n",
    "            xy += [0.9,0]\n",
    "            write_one_line_with_rotate(lines, xy, i)\n",
    "            \n",
    "        else:\n",
    "            xy += [x_barrier-0.5-0.2+5.923, 0]\n",
    "            write_one_line_with_rotate(lines, xy, i)\n",
    "            xy += [0, 0.4]\n",
    "            write_one_line_with_rotate(lines, xy, i)\n",
    "            xy += [-(x_barrier-0.5-0.2+5.923-0.9),0]\n",
    "            write_one_line_with_rotate(lines, xy, i)\n",
    "            xy += [0, 0.4]\n",
    "            write_one_line_with_rotate(lines, xy, i)\n",
    "            xy += [10.046,0]\n",
    "            write_one_line_with_rotate(lines, xy, i)\n",
    "            xy += [0, -0.4]\n",
    "            write_one_line_with_rotate(lines, xy, i)\n",
    "            xy += [-(-x_barrier-0.5-0.2+5.923-0.9),0]\n",
    "            write_one_line_with_rotate(lines, xy, i)\n",
    "            xy += [0, -0.4]\n",
    "            write_one_line_with_rotate(lines, xy, i)\n",
    "            xy += [-x_barrier-0.5-0.2+5.923,0]\n",
    "            write_one_line_with_rotate(lines, xy, i)\n",
    "            \n",
    "    with open(file, 'a') as f:\n",
    "        f.writelines(lines)"
   ]
  },
  {
   "cell_type": "code",
   "execution_count": 45,
   "metadata": {},
   "outputs": [
    {
     "ename": "",
     "evalue": "",
     "output_type": "error",
     "traceback": [
      "\u001b[1;31mThe Kernel crashed while executing code in the the current cell or a previous cell. Please review the code in the cell(s) to identify a possible cause of the failure. Click <a href='https://aka.ms/vscodeJupyterKernelCrash'>here</a> for more info. View Jupyter <a href='command:jupyter.viewOutput'>log</a> for further details."
     ]
    }
   ],
   "source": [
    "layer_height = 0.4\n",
    "line_width = 0.5\n",
    "layer_count = 60\n",
    "mesh = 'only wall'\n",
    "side_length = 12\n",
    "wall_layer_count = 0\n",
    "file = '7.17/string_'+str(layer_count)+'.gcode'\n",
    "write_header_lines(file, layer_height, 0.4, layer_count, mesh)\n",
    "\n",
    "z = 0.3\n",
    "for layer in range (layer_count):\n",
    "    barrier_x = -5.8 + 11.6*layer/(layer_count-1)\n",
    "    # print(barrier_x)\n",
    "    draw_layer(file, barrier_x)\n",
    "    z += 0.4\n",
    "    line = f\"\\nG1 Z{z}\"\n",
    "    with open(file, 'a') as f:\n",
    "        f.write(line)"
   ]
  },
  {
   "cell_type": "code",
   "execution_count": null,
   "metadata": {},
   "outputs": [],
   "source": []
  }
 ],
 "metadata": {
  "kernelspec": {
   "display_name": "didl",
   "language": "python",
   "name": "python3"
  },
  "language_info": {
   "codemirror_mode": {
    "name": "ipython",
    "version": 3
   },
   "file_extension": ".py",
   "mimetype": "text/x-python",
   "name": "python",
   "nbconvert_exporter": "python",
   "pygments_lexer": "ipython3",
   "version": "3.7.12"
  }
 },
 "nbformat": 4,
 "nbformat_minor": 2
}
